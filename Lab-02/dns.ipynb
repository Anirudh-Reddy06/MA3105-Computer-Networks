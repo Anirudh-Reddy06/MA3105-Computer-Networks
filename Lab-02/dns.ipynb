{
 "cells": [
  {
   "cell_type": "code",
   "execution_count": 2,
   "id": "03a819c1",
   "metadata": {},
   "outputs": [
    {
     "name": "stdout",
     "output_type": "stream",
     "text": [
      "example.com -> 23.192.228.80\n",
      "Results written to dns_results.txt\n"
     ]
    }
   ],
   "source": [
    "import socket\n",
    "import dns.resolver\n",
    "import logging\n",
    "\n",
    "logging.basicConfig(filename='dns_demo.log', level=logging.INFO,\n",
    "                    format='%(asctime)s - %(levelname)s - %(message)s')\n",
    "\n",
    "DOMAIN = 'example.com'\n",
    "OUTPUT_FILE = 'dns_results.txt'\n",
    "\n",
    "def resolve_ip(domain):\n",
    "    try:\n",
    "        ip = socket.gethostbyname(domain)\n",
    "        print(f'{domain} -> {ip}')\n",
    "        return ip\n",
    "    except Exception as e:\n",
    "        print('IP resolution failed:', e)\n",
    "        return None\n",
    "\n",
    "def query_dns(domain):\n",
    "    results = {}\n",
    "    try:\n",
    "        for record_type in ['A', 'MX', 'CNAME']:\n",
    "            try:\n",
    "                answers = dns.resolver.resolve(domain, record_type)\n",
    "                results[record_type] = [str(rdata) for rdata in answers]\n",
    "            except Exception:\n",
    "                results[record_type] = []\n",
    "        return results\n",
    "    except Exception as e:\n",
    "        print('DNS query failed:', e)\n",
    "        return {}\n",
    "\n",
    "if __name__ == '__main__':\n",
    "    ip = resolve_ip(DOMAIN)\n",
    "    records = query_dns(DOMAIN)\n",
    "    with open(OUTPUT_FILE, 'w') as f:\n",
    "        f.write(f'Domain: {DOMAIN}\\n')\n",
    "        f.write(f'IP: {ip}\\n')\n",
    "        for rtype, rvalues in records.items():\n",
    "            f.write(f'{rtype}: {rvalues}\\n')\n",
    "    print(f'Results written to {OUTPUT_FILE}')\n"
   ]
  }
 ],
 "metadata": {
  "kernelspec": {
   "display_name": "Python 3",
   "language": "python",
   "name": "python3"
  },
  "language_info": {
   "codemirror_mode": {
    "name": "ipython",
    "version": 3
   },
   "file_extension": ".py",
   "mimetype": "text/x-python",
   "name": "python",
   "nbconvert_exporter": "python",
   "pygments_lexer": "ipython3",
   "version": "3.12.2"
  }
 },
 "nbformat": 4,
 "nbformat_minor": 5
}
