{
 "cells": [
  {
   "cell_type": "code",
   "execution_count": 1,
   "id": "003ac2e0",
   "metadata": {},
   "outputs": [
    {
     "name": "stdout",
     "output_type": "stream",
     "text": [
      "=== GET Request ===\n",
      "Status Code: 200\n",
      "Headers: {'Date': 'Tue, 09 Sep 2025 09:30:41 GMT', 'Content-Type': 'application/json', 'Content-Length': '307', 'Connection': 'keep-alive', 'Server': 'gunicorn/19.9.0', 'Access-Control-Allow-Origin': '*', 'Access-Control-Allow-Credentials': 'true'}\n",
      "Body: {\n",
      "  \"args\": {}, \n",
      "  \"headers\": {\n",
      "    \"Accept\": \"*/*\", \n",
      "    \"Accept-Encoding\": \"gzip, deflate\", \n",
      "    \"Host\": \"httpbin.org\", \n",
      "    \"User-Agent\": \"python-requests/2.32.3\", \n",
      "    \"X-Amzn-Trace-Id\": \"Root=1-6 ...\n",
      "\n",
      "=== POST Request ===\n",
      "Status Code: 200\n",
      "Headers: {'Date': 'Tue, 09 Sep 2025 09:30:44 GMT', 'Content-Type': 'application/json', 'Content-Length': '508', 'Connection': 'keep-alive', 'Server': 'gunicorn/19.9.0', 'Access-Control-Allow-Origin': '*', 'Access-Control-Allow-Credentials': 'true'}\n",
      "Body: {'args': {}, 'data': '', 'files': {}, 'form': {'course': 'CN Lab', 'name': 'Anirudh'}, 'headers': {'Accept': '*/*', 'Accept-Encoding': 'gzip, deflate', 'Content-Length': '26', 'Content-Type': 'application/x-www-form-urlencoded', 'Host': 'httpbin.org', 'User-Agent': 'python-requests/2.32.3', 'X-Amzn-Trace-Id': 'Root=1-68bff3c2-43b5da004555862c1c506dd6'}, 'json': None, 'origin': '104.28.230.17', 'url': 'https://httpbin.org/post'}\n"
     ]
    }
   ],
   "source": [
    "import requests\n",
    "\n",
    "def http_demo():\n",
    "    url = \"https://httpbin.org/get\"\n",
    "    try:\n",
    "        # GET request\n",
    "        response_get = requests.get(url)\n",
    "        print(\"=== GET Request ===\")\n",
    "        print(\"Status Code:\", response_get.status_code)\n",
    "        print(\"Headers:\", response_get.headers)\n",
    "        print(\"Body:\", response_get.text[:200], \"...\")  # limit output\n",
    "\n",
    "        # POST request\n",
    "        response_post = requests.post(\"https://httpbin.org/post\", data={\"name\": \"Anirudh\", \"course\": \"CN Lab\"})\n",
    "        print(\"\\n=== POST Request ===\")\n",
    "        print(\"Status Code:\", response_post.status_code)\n",
    "        print(\"Headers:\", response_post.headers)\n",
    "        print(\"Body:\", response_post.json())\n",
    "\n",
    "    except requests.RequestException as e:\n",
    "        print(\"Error during HTTP request:\", e)\n",
    "\n",
    "if __name__ == \"__main__\":\n",
    "    http_demo()\n"
   ]
  }
 ],
 "metadata": {
  "kernelspec": {
   "display_name": "Python 3",
   "language": "python",
   "name": "python3"
  },
  "language_info": {
   "codemirror_mode": {
    "name": "ipython",
    "version": 3
   },
   "file_extension": ".py",
   "mimetype": "text/x-python",
   "name": "python",
   "nbconvert_exporter": "python",
   "pygments_lexer": "ipython3",
   "version": "3.12.2"
  }
 },
 "nbformat": 4,
 "nbformat_minor": 5
}
