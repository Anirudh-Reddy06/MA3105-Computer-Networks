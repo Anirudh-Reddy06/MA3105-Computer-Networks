{
 "cells": [
  {
   "cell_type": "code",
   "execution_count": 2,
   "id": "5b72db34",
   "metadata": {},
   "outputs": [
    {
     "name": "stdout",
     "output_type": "stream",
     "text": [
      "Email sent successfully!\n"
     ]
    }
   ],
   "source": [
    "import smtplib\n",
    "from email.mime.text import MIMEText\n",
    "import os\n",
    "from dotenv import load_dotenv\n",
    "\n",
    "def smtp_demo():\n",
    "    # Load credentials from .env\n",
    "    load_dotenv()\n",
    "    sender = os.getenv(\"SMTP_EMAIL\")\n",
    "    password = os.getenv(\"SMTP_PASS\")\n",
    "    recipient = \"gondianirudh15@gmail.com\"\n",
    "\n",
    "    subject = \"CN Lab Test Email\"\n",
    "    body = \"Hello! This is a test email from Python (CN Lab Assignment).\"\n",
    "\n",
    "    msg = MIMEText(body)\n",
    "    msg[\"From\"] = sender\n",
    "    msg[\"To\"] = recipient\n",
    "    msg[\"Subject\"] = subject\n",
    "\n",
    "    try:\n",
    "        with smtplib.SMTP(\"smtp.gmail.com\", 587) as server:\n",
    "            server.starttls()\n",
    "            server.login(sender, password)\n",
    "            server.sendmail(sender, recipient, msg.as_string())\n",
    "            print(\"Email sent successfully!\")\n",
    "    except Exception as e:\n",
    "        print(\"SMTP Error:\", e)\n",
    "\n",
    "if __name__ == \"__main__\":\n",
    "    smtp_demo()\n"
   ]
  }
 ],
 "metadata": {
  "kernelspec": {
   "display_name": "Python 3",
   "language": "python",
   "name": "python3"
  },
  "language_info": {
   "codemirror_mode": {
    "name": "ipython",
    "version": 3
   },
   "file_extension": ".py",
   "mimetype": "text/x-python",
   "name": "python",
   "nbconvert_exporter": "python",
   "pygments_lexer": "ipython3",
   "version": "3.12.2"
  }
 },
 "nbformat": 4,
 "nbformat_minor": 5
}
